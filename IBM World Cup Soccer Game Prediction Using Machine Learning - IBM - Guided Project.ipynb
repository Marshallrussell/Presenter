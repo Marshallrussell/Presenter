{
 "cells": [
  {
   "cell_type": "markdown",
   "metadata": {},
   "source": [
    "<p style=\"text-align:center\">\n",
    "    <a href=\"https://skills.network\" target=\"_blank\">\n",
    "    <img src=\"https://cf-courses-data.s3.us.cloud-object-storage.appdomain.cloud/assets/logos/SN_web_lightmode.png\" width=\"200\" alt=\"Skills Network Logo\">\n",
    "    </a>\n",
    "</p>\n"
   ]
  },
  {
   "cell_type": "markdown",
   "metadata": {},
   "source": [
    "# **The World Cup soccer game prediction using machine learning method**\n"
   ]
  },
  {
   "cell_type": "markdown",
   "metadata": {},
   "source": [
    "Estimated time needed: **30** minutes\n"
   ]
  },
  {
   "cell_type": "markdown",
   "metadata": {},
   "source": [
    "Once four year! Everyone loves the World Cup.</br>\n",
    "\n",
    "The __machine learning and data science methods__ are developing very fast recent years, why not trying to __predict the World Cup game__ result using the method?</br>\n",
    "\n",
    "Too difficult? After this project, __everyone can do it__!</br>\n",
    "Too technical required? We have __everything prepared__ in this project!</br>\n",
    "I can't understand all? Welcome back and you can review it __whenever you want__!</br>\n",
    "Only soccer, any other sports? The idea is the same, you could __easily extend__ the method to any other sports.</br>\n",
    "\n",
    "<img src=\"https://cf-courses-data.s3.us.cloud-object-storage.appdomain.cloud/IND-GPXX0TUZEN/images/World_cup.jpeg\" width=\"60%\">\n",
    "\n",
    "We understand that sports game are highly uncertainted, but the forcast result could tell a lot of information that could help! Moreover, the more information used in the model, the more precise the models can predict. We only use a part of the data that we provided. You can add all the data or even collect your own data for a more robust prediction model.\n"
   ]
  },
  {
   "cell_type": "markdown",
   "metadata": {},
   "source": [
    "## __Table of Contents__\n",
    "\n",
    "<ol>\n",
    "    <li><a href=\"#Objectives\">Objectives</a></li>\n",
    "    <li>\n",
    "        <a href=\"#Setup\">Setup</a>\n",
    "        <ol>\n",
    "            <li><a href=\"#Installing-Required-Libraries\">Installing Required Libraries</a></li>\n",
    "            <li><a href=\"#Importing-Required-Libraries\">Importing Required Libraries</a></li>\n",
    "            <li><a href=\"#Defining-Helper-Functions\">Defining Helper Functions</a></li>\n",
    "        </ol>\n",
    "    </li>\n",
    "    <li>\n",
    "        <a href=\"#Background-and-preparation-for-the-model\">Background and preparation for the model</a>\n",
    "        <ol>\n",
    "            <li><a href=\"#How-should-we-collect-and-deal-with-the-data?\">How should we collect and deal with the data?</a></li>\n",
    "            <li><a href=\"#How-the-stucture-of-the-machine-learning-model-to-predict-soccer-games-should-be-like?\">How the stucture of the machine learning model to predict soccer games should be like?</a></li>\n",
    "        </ol>\n",
    "    </li>\n",
    "    <li>\n",
    "        <a href=\"#Training-and-prediction\">Training and prediction</a>\n",
    "        <ol>\n",
    "            <li><a href=\"#Train-the-model\">Train the model</a></li>\n",
    "            <li><a href=\"#Predicting-the-game\">Predicting the game</a></li>\n",
    "            <li><a href=\"#Analyze-the-model\">Analyze the model</a></li>\n",
    "        </ol>\n",
    "    </li>\n",
    "    <li>\n",
    "        <a href=\"#Exercises\">Exercises</a>\n",
    "        <ol>\n",
    "            <li><a href=\"#Exercise-1---Showing-a-specific-player-data\">Exercise 1 - Showing a specific player data</a></li>\n",
    "            <li><a href=\"#Exercise-2---Display-a-team-line-up-in-one-game\">Exercise 2 - Display a team line up in one game</a></li>\n",
    "            <li><a href=\"#Exercise-3---Showing-a-specific-game-result-prediction\">Exercise 3 - Showing a specific game result prediction</a></li>\n",
    "        </ol>\n",
    "    </li>\n",
    "</ol>\n"
   ]
  },
  {
   "cell_type": "markdown",
   "metadata": {},
   "source": [
    "## Objectives\n",
    "\n",
    "After completing this lab, you will be able to:\n",
    "\n",
    "- __Know__ how to collect and prepare data for a data-driven project\n",
    "- __Understand__ how to predict sports result using machine learning models \n",
    "- __Implement__ for the World cup game prediction using a simple neural network model\n"
   ]
  },
  {
   "cell_type": "markdown",
   "metadata": {},
   "source": [
    "----\n"
   ]
  },
  {
   "cell_type": "markdown",
   "metadata": {},
   "source": [
    "## Setup\n"
   ]
  },
  {
   "cell_type": "markdown",
   "metadata": {},
   "source": [
    "For this lab, we will be using the following libraries:\n",
    "\n",
    "*   [`pandas`](https://pandas.pydata.org/?utm_medium=Exinfluencer&utm_source=Exinfluencer&utm_content=000026UJ&utm_term=10006555&utm_id=NA-SkillsNetwork-Channel-SkillsNetworkCoursesIBMML0187ENSkillsNetwork31430127-2021-01-01) for managing the data.\n",
    "*   [`numpy`](https://numpy.org/?utm_medium=Exinfluencer&utm_source=Exinfluencer&utm_content=000026UJ&utm_term=10006555&utm_id=NA-SkillsNetwork-Channel-SkillsNetworkCoursesIBMML0187ENSkillsNetwork31430127-2021-01-01) for mathematical operations.\n",
    "*   [`sklearn`](https://scikit-learn.org/stable/?utm_medium=Exinfluencer&utm_source=Exinfluencer&utm_content=000026UJ&utm_term=10006555&utm_id=NA-SkillsNetwork-Channel-SkillsNetworkCoursesIBMML0187ENSkillsNetwork31430127-2021-01-01) for machine learning and machine-learning-pipeline related functions.\n",
    "*   [`seaborn`](https://seaborn.pydata.org/?utm_medium=Exinfluencer&utm_source=Exinfluencer&utm_content=000026UJ&utm_term=10006555&utm_id=NA-SkillsNetwork-Channel-SkillsNetworkCoursesIBMML0187ENSkillsNetwork31430127-2021-01-01) for visualizing the data.\n",
    "*   [`matplotlib`](https://matplotlib.org/?utm_medium=Exinfluencer&utm_source=Exinfluencer&utm_content=000026UJ&utm_term=10006555&utm_id=NA-SkillsNetwork-Channel-SkillsNetworkCoursesIBMML0187ENSkillsNetwork31430127-2021-01-01) for additional plotting tools.\n"
   ]
  },
  {
   "cell_type": "markdown",
   "metadata": {},
   "source": [
    "### Installing Required Libraries\n",
    "\n",
    "The following required libraries are pre-installed in the Skills Network Labs environment. However, if you run this notebook commands in a different Jupyter environment (e.g. Watson Studio or Ananconda), you will need to install these libraries by removing the `#` sign before `!mamba` in the code cell below.\n"
   ]
  },
  {
   "cell_type": "markdown",
   "metadata": {},
   "source": [
    "The following required libraries are __not__ pre-installed in the Skills Network Labs environment. __You will need to run the following cell__ to install them:\n",
    "\n",
    "_It will take ~30 second to install the libraries._\n"
   ]
  },
  {
   "cell_type": "code",
   "execution_count": null,
   "metadata": {},
   "outputs": [],
   "source": [
    "!pip install scikit-learn==1.0.2\n",
    "!pip install lime\n",
    "!pip install shap\n",
    "!pip install tqdm\n"
   ]
  },
  {
   "cell_type": "code",
   "execution_count": null,
   "metadata": {},
   "outputs": [],
   "source": [
    "!wget \"https://cf-courses-data.s3.us.cloud-object-storage.appdomain.cloud/IND-GPXX0TUZEN/lime.zip\"\n",
    "\n",
    "!wget\"https://cf-courses-data.s3.us.cloud-object-storage.appdomain.cloud/IND-GPXX0TUZEN/shap.zip\""
   ]
  },
  {
   "cell_type": "markdown",
   "metadata": {},
   "source": [
    "### Importing Required Libraries\n",
    "\n",
    "_We recommend you import all required libraries in one place (here):_\n",
    "\n",
    "_It will take ~30 second to import the libraries._\n"
   ]
  },
  {
   "cell_type": "code",
   "execution_count": null,
   "metadata": {},
   "outputs": [],
   "source": [
    "import numpy as np\n",
    "import pandas as pd\n",
    "from itertools import accumulate\n",
    "import matplotlib.pyplot as plt\n",
    "%matplotlib inline\n",
    "from sklearn.preprocessing import StandardScaler\n",
    "from sklearn.datasets import load_digits, load_wine\n",
    "from sklearn.model_selection import train_test_split\n",
    "from sklearn import preprocessing\n",
    "from sklearn.neural_network import MLPClassifier\n",
    "from sklearn.model_selection import GridSearchCV\n",
    "from sklearn.metrics import accuracy_score\n",
    "import lime\n",
    "from lime import lime_tabular\n",
    "import shap\n",
    "\n",
    "# You can also use this section to suppress warnings generated by your code:\n",
    "def warn(*args, **kwargs):\n",
    "    pass\n",
    "import warnings\n",
    "warnings.warn = warn\n",
    "warnings.filterwarnings('ignore')"
   ]
  },
  {
   "cell_type": "markdown",
   "metadata": {},
   "source": [
    "### Defining Helper Functions\n",
    "\n",
    "_Use this section to define any helper functions to help the notebook's code readability:_\n"
   ]
  },
  {
   "cell_type": "code",
   "execution_count": null,
   "metadata": {},
   "outputs": [],
   "source": [
    "# This function will allow us to easily plot data taking in x values, y values, and a title\n",
    "def plotter(x, y, title):\n",
    "    plt.plot(x, y)\n",
    "    plt.xlabel('X')\n",
    "    plt.ylabel('Y')\n",
    "    plt.title(title)\n",
    "    plt.show()"
   ]
  },
  {
   "cell_type": "markdown",
   "metadata": {},
   "source": [
    "----\n"
   ]
  },
  {
   "cell_type": "markdown",
   "metadata": {},
   "source": [
    "## Background and preparation for the model\n",
    "\n",
    "The World Cup 2022 is going to be held in Qatar. The World Cup is always popular all around the world. Here, we want to build a machine learning model which could predict the propbabilities of Win/Draw/Lose for every team in every game.\n",
    "\n",
    "To build the machine learning model to predict soccer games, we should be able to:\n",
    "\n",
    "__1.  How should we collect the data__\n",
    "\n",
    "__2. Determine the stucture of the machine learning model to predict soccer games__\n",
    "\n",
    "<img src=\"https://cf-courses-data.s3.us.cloud-object-storage.appdomain.cloud/IND-GPXX0TUZEN/images/soccer_stadium_football_match_game-8451.jpg%21d.jpeg\" width=\"60%\">\n"
   ]
  },
  {
   "cell_type": "markdown",
   "metadata": {},
   "source": [
    "### How should we collect and Analyse the Data?\n",
    "\n",
    "Here, we want to quantify a game features used as an input to build the model to predict the game result. It is staright forward to think of quantifying the player who played the game. If we have the __quantified player (who played the games) data, game result__, then we can build the model.\n",
    "\n",
    "__We limted the games used for training to the ones played between the _teams which will go to the World Cup_ in _2022.___ because of the following reason:\n",
    "\n",
    "(1) With the change of soccer game and player age growth, the same national teams' lineup can be totally different in every year. \n",
    "\n",
    "(2) The decisive keys in a soccer game could also be different with the time passes, the most advanced soccer style are changing.\n",
    "\n",
    "(3) The national teams which will play in the World Cup are mostly (Team like Italy could be the outliners) the strongest teams. The game style in the high-level (less weakest position determined) games and low-level (goal keeper determined) games are different.\n",
    "\n",
    "#### Games for training\n",
    "\n",
    "The following is all the national team game results in 2022. (from Kaggle https://www.kaggle.com/datasets/martj42/international-football-results-from-1872-to-2017)\n"
   ]
  },
  {
   "cell_type": "code",
   "execution_count": null,
   "metadata": {},
   "outputs": [],
   "source": [
    "!wget 'https://cf-courses-data.s3.us.cloud-object-storage.appdomain.cloud/IND-GPXX0TUZEN/Training_games.csv'\n",
    "Game_all = pd.read_csv('Training_games.csv')\n",
    "Game_all.head()"
   ]
  },
  {
   "cell_type": "markdown",
   "metadata": {},
   "source": [
    "The teams list of the team in the World Cup 2022:\n"
   ]
  },
  {
   "cell_type": "code",
   "execution_count": null,
   "metadata": {},
   "outputs": [],
   "source": [
    "#Team = pd.DataFrame({'team':['Senegal','Qatar','Netherlands','Ecuador','Iran','England','United States','Wales','Argentina','Saudi Arabia','Mexico','Poland','Denmark','Tunisia','France','Australia','Germany','Japan','Spain','Costa Rica','Morocco','Croatia','Belgium','Canada','Switzerland','Cameroon','Brazil','Serbia','Uruguay','Korea Republic','Portugal','Ghana']})\n",
    "Teams = ['Senegal','Qatar','Netherlands','Ecuador','Iran','England','United States','Wales','Argentina','Saudi Arabia','Mexico','Poland','Denmark','Tunisia','France','Australia','Germany','Japan','Spain','Costa Rica','Morocco','Croatia','Belgium','Canada','Switzerland','Cameroon','Brazil','Serbia','Uruguay','Korea Republic','Portugal','Ghana']"
   ]
  },
  {
   "cell_type": "markdown",
   "metadata": {},
   "source": [
    "Change the colunm name 'South Korea' to 'Korea Republic' to make the same name for each DataFrame:\n"
   ]
  },
  {
   "cell_type": "code",
   "execution_count": null,
   "metadata": {},
   "outputs": [],
   "source": [
    "Game_all = Game_all.replace('South Korea','Korea Republic')\n",
    "Game_all.head()"
   ]
  },
  {
   "cell_type": "markdown",
   "metadata": {},
   "source": [
    "Pick up the game played among the teams which will go to the World Cup 2022 (in Team list):\n"
   ]
  },
  {
   "cell_type": "code",
   "execution_count": null,
   "metadata": {},
   "outputs": [],
   "source": [
    "Game_used = Game_all.drop(Game_all[(~Game_all['home_team'].isin(Teams)) | (~Game_all['away_team'].isin(Teams)) ].index)\n",
    "Game_used.count()\n",
    "Game_used"
   ]
  },
  {
   "cell_type": "markdown",
   "metadata": {},
   "source": [
    "Here are the 62 games are going to be used in training.\n",
    "\n",
    "We are making sure every team go to the world cup is in the training set:\n"
   ]
  },
  {
   "cell_type": "code",
   "execution_count": null,
   "metadata": {},
   "outputs": [],
   "source": [
    "list3 = list(Game_used['home_team'].unique()) + list(set(Game_used['away_team'].unique()) - set(Game_used['home_team'].unique()))\n",
    "list(set(list3) - set(Teams))"
   ]
  },
  {
   "cell_type": "markdown",
   "metadata": {},
   "source": [
    "#### Players for training\n",
    "As we introduced, we are using the line up of the team as the input of the training dataset. Thus, we need the player dataset. \n",
    "\n",
    "The FIFA sponsored most recent EA soccer game FIFA23 is a good source for the players' detailed data. Thus, we are using the FIFA23 player data. The data can be download from Kaggle (https://www.kaggle.com/datasets/cashncarry/fifa-23-complete-player-dataset)\n",
    "\n",
    "<img src=\"https://cf-courses-data.s3.us.cloud-object-storage.appdomain.cloud/IND-GPXX0TUZEN/images/images_FIFA.png\">\n"
   ]
  },
  {
   "cell_type": "code",
   "execution_count": null,
   "metadata": {},
   "outputs": [],
   "source": [
    "!wget 'https://cf-courses-data.s3.us.cloud-object-storage.appdomain.cloud/IND-GPXX0TUZEN/Player.csv'\n",
    "Player_all = pd.read_csv('Player.csv')\n",
    "Player_all.head()"
   ]
  },
  {
   "cell_type": "markdown",
   "metadata": {},
   "source": [
    "We can have a look at how many players are in every country among the 32 world cup attending ones.\n"
   ]
  },
  {
   "cell_type": "code",
   "execution_count": null,
   "metadata": {},
   "outputs": [],
   "source": [
    "for i in range(len(Teams)):\n",
    "    print(Teams[i],Player_all.loc[Player_all['Nationality'] == Teams[i]]['Name'].count())"
   ]
  },
  {
   "cell_type": "markdown",
   "metadata": {},
   "source": [
    "Some players who played the games in the training set are not included in the FIFA23 player dataset. We will substitute these players with similar players. The similarities will be based on the position, country, and matching skills.\n"
   ]
  },
  {
   "cell_type": "markdown",
   "metadata": {},
   "source": [
    "We can have a look at the player's data, for example the Ballon d'Or 2022 winner Karim Benzema\n",
    "\n",
    "<img src=https://cf-courses-data.s3.us.cloud-object-storage.appdomain.cloud/IND-GPXX0TUZEN/images/Karim_Benzema.jpeg width=\"20%\">\n"
   ]
  },
  {
   "cell_type": "code",
   "execution_count": null,
   "metadata": {},
   "outputs": [],
   "source": [
    "Player_all.loc[Player_all.FullName == 'Karim Benzema']"
   ]
  },
  {
   "cell_type": "markdown",
   "metadata": {},
   "source": [
    "### What's the structure  of the machine learning model to predict soccer games should be like?\n",
    "\n",
    "We will import the prepared lineup of the 62 training games. The player number in the FIFA23 player dataset are included in the file. The player number could access the player detailed data information.\n"
   ]
  },
  {
   "cell_type": "code",
   "execution_count": null,
   "metadata": {},
   "outputs": [],
   "source": [
    "!wget 'https://cf-courses-data.s3.us.cloud-object-storage.appdomain.cloud/IND-GPXX0TUZEN/Training_game_62.csv'\n",
    "Game_62 = pd.read_csv('Training_game_62.csv')\n",
    "\n",
    "#show the first player in the first of the 62 training games\n",
    "Player_all.loc[(Game_62.loc[0]['Player1'])]"
   ]
  },
  {
   "cell_type": "markdown",
   "metadata": {},
   "source": [
    "Our world cup predicting machine learning model is clear right now:\n"
   ]
  },
  {
   "cell_type": "markdown",
   "metadata": {},
   "source": [
    "<center><img src=\"https://cf-courses-data.s3.us.cloud-object-storage.appdomain.cloud/IND-GPXX0TUZEN/images/Slide1.jpeg\" width=\"50%\"></center>\n",
    "\n",
    "<center><img src=\"https://cf-courses-data.s3.us.cloud-object-storage.appdomain.cloud/IND-GPXX0TUZEN/images/thumb_favorite_hand_arm_handle_hand_tool_equal_like-941135.jpg%21d.jpeg\" width=\"40%\"></center>\n"
   ]
  },
  {
   "cell_type": "markdown",
   "metadata": {},
   "source": [
    "#### Training set\n",
    "\n",
    "We will set up the training **features** following the structure above. \n",
    "The features include team average age and player's overall ratings, from Goal Keeper to striker.\n",
    "These info are stored in the dataframe ```Player_all```.\n",
    "We are creating DataFrame of the teams' average age in the training set ```Train_df_age```: \n"
   ]
  },
  {
   "cell_type": "code",
   "execution_count": null,
   "metadata": {},
   "outputs": [],
   "source": [
    "team_age=[]\n",
    "for j in range(62):\n",
    "    \n",
    "    # Get the team1 and team2 player index from the Team DataFrame\n",
    "    team1_index = list(Game_62.loc[j][8:19])\n",
    "    team2_index = list(Game_62.loc[j][19:30])\n",
    "    \n",
    "    # Average of the team age\n",
    "    temp1 = Player_all.iloc[team1_index]['Age'].mean()\n",
    "    temp2 = Player_all.iloc[team2_index]['Age'].mean()\n",
    "    team_age.append([temp1,temp2])\n",
    "    \n",
    "# Create the DataFrame for the average age    \n",
    "cols = ['Average_age1','Average_age2']\n",
    "Train_df_age = pd.DataFrame(team_age, columns=cols)\n",
    "Train_df_age.head()"
   ]
  },
  {
   "cell_type": "markdown",
   "metadata": {},
   "source": [
    "Simlarly, We are creating  a DataFrame of the every teams' player overall rating in the training set ```Train_df_overall```:\n"
   ]
  },
  {
   "cell_type": "code",
   "execution_count": null,
   "metadata": {},
   "outputs": [],
   "source": [
    "team_overall=[]\n",
    "for j in range(62):\n",
    "    \n",
    "    # Get the full team1 and team2 player index from the Team DataFrame\n",
    "    team_index = list(Game_62.loc[j][8:30])\n",
    "    \n",
    "    # The team1 and team2 player overall from the Team DataFrame\n",
    "    temp3 = Player_all.iloc[team_index]['Overall']\n",
    "    team_overall.append(list(temp3))\n",
    "    \n",
    "# Create the DataFrame for the player overall    \n",
    "cols = []\n",
    "for i in range(22):\n",
    "    cols.append('Player'+str(i+1)+'_overall') \n",
    "Train_df_overall = pd.DataFrame(team_overall, columns=cols)\n",
    "Train_df_overall.head()"
   ]
  },
  {
   "cell_type": "markdown",
   "metadata": {},
   "source": [
    "We then can combine the two DataFrame into Train_df using ``pd.concat``, axis means the orientation to combine of the two DataFrames\n"
   ]
  },
  {
   "cell_type": "code",
   "execution_count": null,
   "metadata": {},
   "outputs": [],
   "source": [
    "Train_df=pd.concat([Train_df_age, Train_df_overall],axis=1)"
   ]
  },
  {
   "cell_type": "code",
   "execution_count": null,
   "metadata": {},
   "outputs": [],
   "source": [
    "Train_df.head()"
   ]
  },
  {
   "cell_type": "markdown",
   "metadata": {},
   "source": [
    "Seting up the **labels** in the training 62 game dataset:\n"
   ]
  },
  {
   "cell_type": "code",
   "execution_count": null,
   "metadata": {},
   "outputs": [],
   "source": [
    "Result_training = []\n",
    "Result_totalgoal = []\n",
    "Result_netgoal = []\n",
    "for j in range(62):\n",
    "    Result_training.append(Game_62.loc[j]['Result'])\n",
    "    Result_totalgoal.append(Game_62.loc[j]['Netgoal'])\n",
    "    Result_netgoal.append(Game_62.loc[j]['Goal_total'])\n",
    "np.array(Result_training)\n",
    "np.array(Result_totalgoal)\n",
    "np.array(Result_netgoal)"
   ]
  },
  {
   "cell_type": "markdown",
   "metadata": {},
   "source": [
    "#### Predicting set\n",
    "\n",
    "We are going to import all the group stage games:\n"
   ]
  },
  {
   "cell_type": "code",
   "execution_count": null,
   "metadata": {},
   "outputs": [],
   "source": [
    "!wget 'https://cf-courses-data.s3.us.cloud-object-storage.appdomain.cloud/IND-GPXX0TUZEN/matches_group.csv'\n",
    "match = pd.read_csv('matches_group.csv')\n",
    "match.head()"
   ]
  },
  {
   "cell_type": "markdown",
   "metadata": {},
   "source": [
    "For each of the games, there will be two teams. \n",
    "\n",
    "The line up of each team in the games is following made by author.\n",
    "\n",
    "The proposed line up is following author's understanding of soccer, the most predicted lineup of people predicted online and the rule of maximize the team overall rate. we are importing the line up of each team (also from Goal keeper to striker):\n"
   ]
  },
  {
   "cell_type": "code",
   "execution_count": null,
   "metadata": {},
   "outputs": [],
   "source": [
    "!wget 'https://cf-courses-data.s3.us.cloud-object-storage.appdomain.cloud/IND-GPXX0TUZEN/Teams.csv'\n",
    "Team = pd.read_csv('Teams.csv')\n",
    "Team.head()"
   ]
  },
  {
   "cell_type": "markdown",
   "metadata": {},
   "source": [
    "The prediting set is prepared as the same format,using the same method as the training set,\n",
    "\n",
    "For the team average age DataFrame ```Predic_df_age```:\n"
   ]
  },
  {
   "cell_type": "code",
   "execution_count": null,
   "metadata": {},
   "outputs": [],
   "source": [
    "team_age=[]\n",
    "for j in range(48):\n",
    "    \n",
    "    # Get the team1 and team2 player index from the Team DataFrame\n",
    "    team1_index = list(Team.loc[Team['Team'] == match['country1'][j]].iloc[0,3:])\n",
    "    team2_index = list(Team.loc[Team['Team'] == match['country2'][j]].iloc[0,3:])\n",
    "    \n",
    "    # Average of the team age\n",
    "    temp1 = Player_all.iloc[team1_index]['Age'].mean()\n",
    "    temp2 = Player_all.iloc[team2_index]['Age'].mean()\n",
    "    team_age.append([temp1,temp2])\n",
    "\n",
    "# Create the DataFrame for the average age\n",
    "cols = ['Average_age1','Average_age2']\n",
    "Predic_df_age = pd.DataFrame(team_age, columns=cols)\n",
    "Predic_df_age.head()"
   ]
  },
  {
   "cell_type": "markdown",
   "metadata": {},
   "source": [
    "For the team overall ```Predic_df_overall```:\n"
   ]
  },
  {
   "cell_type": "code",
   "execution_count": null,
   "metadata": {},
   "outputs": [],
   "source": [
    "team_overall=[]\n",
    "for j in range(48):\n",
    "    \n",
    "    # Get the full team1 and team2 player index from the Team DataFrame\n",
    "    team_index = list(Team.loc[Team['Team'] == match['country1'][j]].iloc[0,3:]) + list(Team.loc[Team['Team'] == match['country2'][j]].iloc[0,3:])\n",
    "    \n",
    "    # The team1 and team2 player overall from the Team DataFrame\n",
    "    temp3 = Player_all.iloc[team_index]['Overall']\n",
    "    team_overall.append(list(temp3))\n",
    "\n",
    "# Create the DataFrame for the player overall\n",
    "cols = []\n",
    "for i in range(22):\n",
    "    cols.append('Player'+str(i+1)+'_overall') \n",
    "Predic_df_overall = pd.DataFrame(team_overall, columns=cols)\n",
    "Predic_df_overall.head()"
   ]
  },
  {
   "cell_type": "markdown",
   "metadata": {},
   "source": [
    "Combining the two DataFrame as ```Predicting_dt```\n"
   ]
  },
  {
   "cell_type": "code",
   "execution_count": null,
   "metadata": {},
   "outputs": [],
   "source": [
    "Predicting_df=pd.concat([Predic_df_age, Predic_df_overall],axis=1)"
   ]
  },
  {
   "cell_type": "code",
   "execution_count": null,
   "metadata": {},
   "outputs": [],
   "source": [
    "Predicting_df.head()"
   ]
  },
  {
   "cell_type": "markdown",
   "metadata": {},
   "source": [
    "To standardize the predicting set and training set:\n"
   ]
  },
  {
   "cell_type": "code",
   "execution_count": null,
   "metadata": {},
   "outputs": [],
   "source": [
    "All_df = pd.concat([Train_df,Predicting_df],axis=0)\n",
    "All_df = preprocessing.StandardScaler().fit(All_df).transform(All_df.astype(float))\n",
    "X_1 = All_df[:62]\n",
    "X_2 = All_df[62:]"
   ]
  },
  {
   "cell_type": "markdown",
   "metadata": {},
   "source": [
    "----\n"
   ]
  },
  {
   "cell_type": "markdown",
   "metadata": {},
   "source": [
    "## Training and prediction\n",
    "### Train the model\n"
   ]
  },
  {
   "cell_type": "markdown",
   "metadata": {},
   "source": [
    "Here we separate  the 62 games into training set and testing set:\n"
   ]
  },
  {
   "cell_type": "code",
   "execution_count": null,
   "metadata": {},
   "outputs": [],
   "source": [
    "X_train, X_test, y_train, y_test = train_test_split(X_1, np.array(Result_training), test_size=0.1, random_state=42)\n",
    "#X_train.shape, X_test.shape\n",
    "X_train"
   ]
  },
  {
   "cell_type": "markdown",
   "metadata": {},
   "source": [
    "We are using a simple neural network model to predict the resutl.\n",
    "\n",
    "To train the models using  different parametrs and finding the best one is following the simple codes as below:\n",
    "\n",
    "_This step will take ~5 minutes, have a cup of coffee_\n",
    "\n",
    "<img src=\"https://cf-courses-data.s3.us.cloud-object-storage.appdomain.cloud/IND-GPXX0TUZEN/images/coffee_cafe_mug_decorative_drink_beverage_latte_cappuccino-847370.jpg%21d.jpeg\" width=\"40%\">\n"
   ]
  },
  {
   "cell_type": "code",
   "execution_count": null,
   "metadata": {},
   "outputs": [],
   "source": [
    "parameters = {'hidden_layer_sizes':[50, 75, 100],\n",
    "              'alpha': [0.0001, 0.001, 0.01, 0.1], \n",
    "              'max_iter': [200, 500, 800], \n",
    "              'learning_rate_init':[0.0001, 0.001, 0.01, 0.1]}\n",
    "\n",
    "model = MLPClassifier()\n",
    "clf = GridSearchCV(estimator=model, param_grid=parameters, cv=5, n_jobs=-1)\n",
    "clf.fit(X_train, y_train) # may need to reduce the train set size to shorten the training time\n",
    "\n",
    "print(\"The best parameter values found are:\\n\")\n",
    "print(clf.best_params_)\n",
    "\n",
    "# store the best model found in \"bestmodel\"\n",
    "bestmodel = clf.best_estimator_"
   ]
  },
  {
   "cell_type": "markdown",
   "metadata": {},
   "source": [
    "We can see the testing result:\n"
   ]
  },
  {
   "cell_type": "code",
   "execution_count": null,
   "metadata": {},
   "outputs": [],
   "source": [
    "y_prob = bestmodel.predict_proba(X_test)\n",
    "y_pred = bestmodel.predict(X_test)\n",
    "#print(f\"The accuracy score of the best model is {accuracy_score(y_test, y_pred)}\\n\")\n",
    "print([np.round(y_prob,3), y_pred, y_test])\n",
    "# D/L/W probality; Predicted result; Real Result"
   ]
  },
  {
   "cell_type": "markdown",
   "metadata": {},
   "source": [
    "Soccer game involves much uncertainties. Though some of the prediction is not 100% right, the testing result predict most of the games in the training set.\n"
   ]
  },
  {
   "cell_type": "markdown",
   "metadata": {},
   "source": [
    "### Predicting the game\n",
    "\n",
    "Here is the predicting W/L/D and probability of them of each game based on our very simple model:\n"
   ]
  },
  {
   "cell_type": "code",
   "execution_count": null,
   "metadata": {},
   "outputs": [],
   "source": [
    "y_prob = bestmodel.predict_proba(X_2)\n",
    "y_result = bestmodel.predict(X_2)\n",
    "print([np.round(y_prob,3),y_result])"
   ]
  },
  {
   "cell_type": "markdown",
   "metadata": {},
   "source": [
    "Combining the game predicting result with the Time and Teams in one DataFrame:\n"
   ]
  },
  {
   "cell_type": "code",
   "execution_count": null,
   "metadata": {},
   "outputs": [],
   "source": [
    "cols_result = ['Time','Home Team','Away Team','Predicted result','Home Win rate','Draw rate','Home Lose rate']\n",
    "Result_df = pd.DataFrame([], columns=cols_result)\n",
    "Result_df['Time'] = match.iloc[:48,1].values\n",
    "Result_df['Home Team'] = match.iloc[:48,2].values\n",
    "Result_df['Away Team'] = match.iloc[:48,3].values\n",
    "Result_df['Predicted result'] = y_result\n",
    "Result_df['Home Win rate'] = np.round(y_prob[:,2],3)\n",
    "Result_df['Draw rate'] = np.round(y_prob[:,0],3)\n",
    "Result_df['Home Lose rate'] = np.round(y_prob[:,1],3)\n",
    "Result_df\n",
    "#content_result = np.concatenate(match.iloc[:,1].values,match.iloc[:,2].values,match.iloc[:,3].values,y_result,np.round(y_prob[:,2],3),np.round(y_prob[:,0],3),np.round(y_prob[:,1],3))\n",
    "#content_result.transpose()\n",
    "\n",
    "#Result_df"
   ]
  },
  {
   "cell_type": "markdown",
   "metadata": {},
   "source": [
    "Showing the predicting probability in a diagram:\n"
   ]
  },
  {
   "cell_type": "code",
   "execution_count": null,
   "metadata": {},
   "outputs": [],
   "source": [
    "A = Result_df.loc[Result_df['Home Team'] == 'Japan']\n",
    "A = A.loc[A['Away Team'] == 'Spain']\n",
    "\n",
    "data = {'Japan Win':A['Home Win rate'].values[0], 'Draw':A['Draw rate'].values[0], 'Spain Win':A['Home Lose rate'].values[0]}\n",
    "number = list(data.keys())\n",
    "values = list(data.values())\n",
    "c = ['blue', 'yellow', 'red']\n",
    "\n",
    "plt.bar(number, values, color = c, width = 0.4)\n",
    "plt.title(\"Result probability of Japan VS Spain\", y=1.012)\n",
    "plt.ylabel(\"probability\", labelpad=3);\n",
    "\n",
    "plt.show()"
   ]
  },
  {
   "cell_type": "markdown",
   "metadata": {},
   "source": [
    "It is pretty easy to use machine learning method to predic the soccer game right?\n",
    "\n",
    "The model is very easy and the soccer game can be very uncertained. No one can 100% predict what will happen in a soccer game. But we can try to make a more information contained model which might provide more precise predictions.\n",
    "\n",
    "<font color='red'> If you want, you can include __players' more detailed data__ (provided in Player_all) and the __home_away_neutral and other effects__ of the game for a __more precise soccer game prediction model__.</font>\n"
   ]
  },
  {
   "cell_type": "markdown",
   "metadata": {},
   "source": [
    "### Analyze the model\n",
    "\n",
    "The neural network models is just like a black box. **But can we get some information from the black-box? Like what position is important for a good soccer team?**\n",
    "\n",
    "**LIME** and **SHAP** could help with the interpretability.\n",
    "\n",
    "They are surrogate models. They both **tweak** the input slightly (like we do in sensitivity tests) and **test the changes in prediction**. From the influence, we know how each features is related to the labels.\n",
    "\n",
    "Let's see how the two models work:\n",
    "\n",
    "#### LIME\n"
   ]
  },
  {
   "cell_type": "markdown",
   "metadata": {},
   "source": [
    "We first name down the 24 feature's meaning (e.g. M4_1 means the forth midfield in team1)\n"
   ]
  },
  {
   "cell_type": "code",
   "execution_count": null,
   "metadata": {},
   "outputs": [],
   "source": [
    "Label_name = ['Team1_Age','Team2_Age','GK_1','RB_1','CB1_1','CB2_1','LB_1','M1_1','M2_1','M3_1','M4_1','F1_1','F2_1','GK_2','RB_2','CB1_2','CB2_2','LB_2','M1_2','M2_2','M3_2','M4_2','F1_2','F2_2']  "
   ]
  },
  {
   "cell_type": "markdown",
   "metadata": {},
   "source": [
    "We use a popular game  Spain VS Germany as an example of Lime analysis\n"
   ]
  },
  {
   "cell_type": "code",
   "execution_count": null,
   "metadata": {},
   "outputs": [],
   "source": [
    "# Setting the lime explainer\n",
    "lime_explainer = lime_tabular.LimeTabularExplainer(\n",
    "    training_data=X_train,\n",
    "    feature_names=Label_name,\n",
    "    class_names=['D','L','W'],\n",
    "    mode='classification'\n",
    ")\n",
    "\n",
    "# to Check the game 28 Spain VS Germany\n",
    "Exam_1 = X_2[27]\n",
    "\n",
    "# Continue to set the lime explainer\n",
    "lime_exp = lime_explainer.explain_instance(\n",
    "    data_row=Exam_1,\n",
    "    predict_fn=bestmodel.predict_proba,\n",
    "    num_features=24\n",
    ")\n",
    "\n",
    "#plot the result\n",
    "lime_exp.show_in_notebook(show_table=True)"
   ]
  },
  {
   "cell_type": "markdown",
   "metadata": {},
   "source": [
    "Using the Lime model. We get the result above. The orange means the feature is positively correlated to Germany winning the game; blue is positively correlated to Germany lose the game.\n",
    "We could found some interesting hints of the game.\n",
    "\n",
    "___(1) The game highly possible will be draw___\n",
    "\n",
    "___(2) The center line largely influcence the game, especially the midfield.___\n",
    "\n",
    "___(3) It never says if a team has best player in every position has larger opportunity to win.___\n"
   ]
  },
  {
   "cell_type": "markdown",
   "metadata": {},
   "source": [
    "#### SHAP\n"
   ]
  },
  {
   "cell_type": "code",
   "execution_count": null,
   "metadata": {},
   "outputs": [],
   "source": [
    "# Setting the SHAP explainer\n",
    "explainer = shap.KernelExplainer(bestmodel.predict_proba, X_1)\n",
    "\n",
    "#Calculate SHAP value\n",
    "shap_values = explainer.shap_values(X_2)"
   ]
  },
  {
   "cell_type": "markdown",
   "metadata": {},
   "source": [
    "Here, in SHAP, we could display each parameter's influence on the final result by using ___summary plot___ in SHAP. Blue is team 1 wins, pink is draw, brown is team 2 wins:\n"
   ]
  },
  {
   "cell_type": "code",
   "execution_count": null,
   "metadata": {},
   "outputs": [],
   "source": [
    "#Plot the features influence in general for all the training the game\n",
    "shap.summary_plot(shap_values, X_2,\n",
    "                  feature_names=Label_name,\n",
    "                  class_names=['D','L','W'],\n",
    "                  max_display=24)"
   ]
  },
  {
   "cell_type": "markdown",
   "metadata": {},
   "source": [
    "Here, from the diagram:\n",
    "\n",
    "___(1) Ages don't matter that much!___\n",
    "\n",
    "___(2) Every position all contributed to a game, but the importance is not the same. The most noticable position striker (Foward#2) is only icing on the cake, a good shooter always need a good team.___\n",
    "\n",
    "___(3) Good defense at least could help team to get a draw result.___\n"
   ]
  },
  {
   "cell_type": "markdown",
   "metadata": {},
   "source": [
    "We can see each positions' player's potential influence to each game in a the World Cup by using ___force_plot___ in SHAP. \n",
    "\n",
    "We also see which game could highly possible be a draw game, and could tell which player make the W/L happen. \n",
    "\n",
    "_Red is draw, Blue is not draw here._\n"
   ]
  },
  {
   "cell_type": "code",
   "execution_count": null,
   "metadata": {},
   "outputs": [],
   "source": [
    "shap.initjs() #initial jacascript in cell\n",
    "shap.force_plot(explainer.expected_value[0], shap_values[0], X_1, feature_names=Label_name)"
   ]
  },
  {
   "cell_type": "markdown",
   "metadata": {},
   "source": [
    "----\n"
   ]
  },
  {
   "cell_type": "markdown",
   "metadata": {},
   "source": [
    "## Exercises\n"
   ]
  },
  {
   "cell_type": "markdown",
   "metadata": {},
   "source": [
    "### Exercise 1 - Showing a specific player data\n"
   ]
  },
  {
   "cell_type": "markdown",
   "metadata": {},
   "source": [
    "Show the Lionel Messi's information (column FullName == 'Lionel Messi')\n",
    "\n",
    "<img src=https://cf-courses-data.s3.us.cloud-object-storage.appdomain.cloud/IND-GPXX0TUZEN/images/Lionel_Messi.jpeg width=\"20%\">\n"
   ]
  },
  {
   "cell_type": "code",
   "execution_count": null,
   "metadata": {},
   "outputs": [],
   "source": [
    "# Add code for exercise 1 here:"
   ]
  },
  {
   "cell_type": "markdown",
   "metadata": {},
   "source": [
    "<details>\n",
    "    <summary>Click here for Solution</summary>\n",
    "\n",
    "```python\n",
    "Player_all.loc[Player_all.FullName == 'Lionel Messi']\n",
    "```\n",
    "\n",
    "</details>\n"
   ]
  },
  {
   "cell_type": "markdown",
   "metadata": {},
   "source": [
    "### Exercise 2 - Display a team line up in one game\n"
   ]
  },
  {
   "cell_type": "markdown",
   "metadata": {},
   "source": [
    "Display the Ghana's 11 player names who lined up in the first game of the 62 training set \n"
   ]
  },
  {
   "cell_type": "code",
   "execution_count": null,
   "metadata": {},
   "outputs": [],
   "source": []
  },
  {
   "cell_type": "markdown",
   "metadata": {},
   "source": [
    "<details>\n",
    "    <summary>Click here for Solution</summary>\n",
    "\n",
    "```python\n",
    "Lineup_1 = []\n",
    "for i in range(11):\n",
    "    location = 'Player'+str(i+1)\n",
    "    number = Game_62.loc[0][location]\n",
    "    Lineup_1.append(Player_all.loc[number]['Name'])\n",
    "Lineup_1\n",
    "```\n",
    "\n",
    "</details>\n"
   ]
  },
  {
   "cell_type": "markdown",
   "metadata": {},
   "source": [
    "### Exercise 3 - Showing a specific game result prediction\n"
   ]
  },
  {
   "cell_type": "markdown",
   "metadata": {},
   "source": [
    "Show our model's prediction of Canada VS Morocco in the World Cup, and plot the W/D/L rate in a diagram\n"
   ]
  },
  {
   "cell_type": "code",
   "execution_count": null,
   "metadata": {},
   "outputs": [],
   "source": []
  },
  {
   "cell_type": "markdown",
   "metadata": {},
   "source": [
    "<details>\n",
    "    <summary>Click here for Solution</summary>\n",
    "\n",
    "```python\n",
    "B = Result_df.loc[Result_df['Home Team'] == 'Canada']\n",
    "B = B.loc[B['Away Team'] == 'Morocco']\n",
    "\n",
    "data = {'Canada Win':B['Home Win rate'].values[0], 'Draw':B['Draw rate'].values[0], 'Morocco Win':B['Home Lose rate'].values[0]}\n",
    "number = list(data.keys())\n",
    "values = list(data.values())\n",
    "c = ['red', 'yellow', 'blue']\n",
    "\n",
    "plt.bar(number, values, color = c, width = 0.4)\n",
    "plt.title(\"Result probability of Canada VS Morocco\", y=1.012)\n",
    "plt.ylabel(\"probability\", labelpad=3);\n",
    "\n",
    "plt.show()\n",
    "```\n",
    "\n",
    "</details>\n"
   ]
  },
  {
   "cell_type": "markdown",
   "metadata": {},
   "source": [
    "----\n"
   ]
  },
  {
   "cell_type": "markdown",
   "metadata": {},
   "source": [
    "## Authors\n"
   ]
  },
  {
   "cell_type": "markdown",
   "metadata": {},
   "source": [
    "[Junxing(J.C.) Chen](https://www.linkedin.com/in/junxing-chen-3591a4162/) is a Data Science at IBM with strong interests in machine learning and cutting-edge technologies.\n"
   ]
  },
  {
   "cell_type": "markdown",
   "metadata": {},
   "source": [
    "## Change Log\n"
   ]
  },
  {
   "cell_type": "markdown",
   "metadata": {},
   "source": [
    "|Date (YYYY-MM-DD)|Version|Changed By|Change Description|\n",
    "|-|-|-|-|\n",
    "|2022-11-01|0.1|Junxing(J.C.) Chen|Create the project|\n",
    "|2024-01-18|0.2|Pratiksha verma|Converted jupyterlite to jupyterlab\n"
   ]
  },
  {
   "cell_type": "markdown",
   "metadata": {},
   "source": [
    "Copyright © 2022 IBM Corporation. All rights reserved.\n"
   ]
  }
 ],
 "metadata": {
  "kernelspec": {
   "display_name": "Python 3 (ipykernel)",
   "language": "python",
   "name": "python3"
  },
  "language_info": {
   "codemirror_mode": {
    "name": "ipython",
    "version": 3
   },
   "file_extension": ".py",
   "mimetype": "text/x-python",
   "name": "python",
   "nbconvert_exporter": "python",
   "pygments_lexer": "ipython3",
   "version": "3.13.1"
  }
 },
 "nbformat": 4,
 "nbformat_minor": 4
}
